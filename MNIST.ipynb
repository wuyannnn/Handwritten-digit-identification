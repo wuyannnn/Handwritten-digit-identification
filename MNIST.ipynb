{
 "cells": [
  {
   "cell_type": "code",
   "execution_count": 20,
   "metadata": {},
   "outputs": [],
   "source": [
    "%matplotlib inline\n",
    "\n",
    "import torch\n",
    "import torch.nn as nn\n",
    "from torchvision import datasets, transforms\n",
    "import torch.optim\n",
    "import torch.nn.functional as F\n",
    "import numpy as np\n",
    "\n",
    "from collections import OrderedDict\n",
    "import matplotlib.pyplot as plt"
   ]
  },
  {
   "cell_type": "code",
   "execution_count": 2,
   "metadata": {},
   "outputs": [],
   "source": [
    "transform = transforms.Compose([transforms.ToTensor(),\n",
    "                                transforms.Normalize((0.5,0.5,0.5),(0.5,0.5,0.5)),\n",
    "                               ])"
   ]
  },
  {
   "cell_type": "code",
   "execution_count": 3,
   "metadata": {},
   "outputs": [],
   "source": [
    "trainset = datasets.MNIST('MNIST_data/',download = False, train = True, transform = transform)\n",
    "# testset = datasets.MNIST('MNIST_data/',download = False, train = False, transform = transform)"
   ]
  },
  {
   "cell_type": "code",
   "execution_count": 4,
   "metadata": {},
   "outputs": [
    {
     "name": "stdout",
     "output_type": "stream",
     "text": [
      "60000\n"
     ]
    }
   ],
   "source": [
    "print(len(trainset))\n",
    "# print(len(testset))"
   ]
  },
  {
   "cell_type": "code",
   "execution_count": 5,
   "metadata": {},
   "outputs": [],
   "source": [
    "trainloader = torch.utils.data.DataLoader(trainset,batch_size=64,shuffle=True)\n",
    "# testloader = torch.utils.data.DataLoader(testset,batch_size=64,shuffle=True)"
   ]
  },
  {
   "cell_type": "code",
   "execution_count": 8,
   "metadata": {},
   "outputs": [
    {
     "data": {
      "text/plain": [
       "<matplotlib.image.AxesImage at 0x26a121be5c0>"
      ]
     },
     "execution_count": 8,
     "metadata": {},
     "output_type": "execute_result"
    },
    {
     "data": {
      "image/png": "[encoded data removed]",
      "text/plain": [
       "<matplotlib.figure.Figure at 0x26a0e34ae10>"
      ]
     },
     "metadata": {},
     "output_type": "display_data"
    }
   ],
   "source": [
    "images,lables = next(iter(trainloader))\n",
    "plt.imshow(images[0].numpy().squeeze(),cmap='Greys_r')"
   ]
  },
  {
   "cell_type": "code",
   "execution_count": 7,
   "metadata": {},
   "outputs": [],
   "source": [
    "# images,lables = next(iter(testloader))\n",
    "# plt.imshow(images[0].numpy().squeeze(),cmap='Greys_r')"
   ]
  },
  {
   "cell_type": "code",
   "execution_count": 9,
   "metadata": {},
   "outputs": [],
   "source": [
    "# Build network\n",
    "\n",
    "class net(nn.Module):\n",
    "    def __init__(self):\n",
    "        super().__init__()\n",
    "        self.fc1 = nn.Linear(784,128)\n",
    "        self.fc2 = nn.Linear(128,64)\n",
    "        self.fc3 = nn.Linear(64,10)\n",
    "    def forward(self,x):\n",
    "        x = self.fc1(x)\n",
    "        x = F.relu(x)\n",
    "        x = self.fc2(x)\n",
    "        x = F.relu(x)\n",
    "        x = self.fc3(x)\n",
    "#         x = F.softmax(x,dim=1)\n",
    "        return x"
   ]
  },
  {
   "cell_type": "code",
   "execution_count": 22,
   "metadata": {},
   "outputs": [
    {
     "name": "stdout",
     "output_type": "stream",
     "text": [
      "tensor([[ 0.1019, -0.0057,  0.0709, -0.0847, -0.0324, -0.2556,  0.0595,  0.0009,\n",
      "          0.2437, -0.1242]], grad_fn=<ThAddmmBackward>)\n",
      "tensor([[0.1101, 0.0989, 0.1067, 0.0913, 0.0963, 0.0770, 0.1055, 0.0995, 0.1269,\n",
      "         0.0878]], grad_fn=<SoftmaxBackward>)\n",
      "tensor([[-2.2065, -2.3141, -2.2374, -2.3931, -2.3408, -2.5639, -2.2488, -2.3074,\n",
      "         -2.0646, -2.4326]], grad_fn=<LogSoftmaxBackward>)\n",
      "1.0\n"
     ]
    },
    {
     "name": "stderr",
     "output_type": "stream",
     "text": [
      "C:\\ProgramData\\Anaconda3\\lib\\site-packages\\ipykernel_launcher.py:4: UserWarning: Implicit dimension choice for softmax has been deprecated. Change the call to include dim=X as an argument.\n",
      "  after removing the cwd from sys.path.\n",
      "C:\\ProgramData\\Anaconda3\\lib\\site-packages\\ipykernel_launcher.py:5: UserWarning: Implicit dimension choice for log_softmax has been deprecated. Change the call to include dim=X as an argument.\n",
      "  \"\"\"\n",
      "C:\\ProgramData\\Anaconda3\\lib\\site-packages\\ipykernel_launcher.py:6: UserWarning: Implicit dimension choice for softmax has been deprecated. Change the call to include dim=X as an argument.\n",
      "  \n"
     ]
    }
   ],
   "source": [
    "model = net()\n",
    "out = model.forward(images[0].view(1,784))\n",
    "print(out)\n",
    "print(F.softmax(out))\n",
    "print(F.log_softmax(out))\n",
    "print(np.sum(F.softmax(out).data.numpy()))"
   ]
  },
  {
   "cell_type": "code",
   "execution_count": 25,
   "metadata": {},
   "outputs": [],
   "source": [
    "model=net()"
   ]
  },
  {
   "cell_type": "code",
   "execution_count": 26,
   "metadata": {},
   "outputs": [],
   "source": [
    "loss_f = nn.CrossEntropyLoss()\n",
    "optimizer = torch.optim.SGD(model.parameters(),lr = 0.003)"
   ]
  },
  {
   "cell_type": "code",
   "execution_count": 27,
   "metadata": {},
   "outputs": [
    {
     "name": "stdout",
     "output_type": "stream",
     "text": [
      "Epoch: 1/3...  Loss: 2.3064\n",
      "Epoch: 1/3...  Loss: 2.2868\n",
      "Epoch: 1/3...  Loss: 2.2695\n",
      "Epoch: 1/3...  Loss: 2.2504\n",
      "Epoch: 1/3...  Loss: 2.2327\n",
      "Epoch: 1/3...  Loss: 2.2088\n",
      "Epoch: 1/3...  Loss: 2.1823\n",
      "Epoch: 1/3...  Loss: 2.1608\n",
      "Epoch: 1/3...  Loss: 2.1237\n",
      "Epoch: 1/3...  Loss: 2.0930\n",
      "Epoch: 1/3...  Loss: 2.0626\n",
      "Epoch: 1/3...  Loss: 2.0005\n",
      "Epoch: 1/3...  Loss: 1.9803\n",
      "Epoch: 1/3...  Loss: 1.9199\n",
      "Epoch: 1/3...  Loss: 1.8714\n",
      "Epoch: 1/3...  Loss: 1.7999\n",
      "Epoch: 1/3...  Loss: 1.7376\n",
      "Epoch: 1/3...  Loss: 1.6979\n",
      "Epoch: 1/3...  Loss: 1.6330\n",
      "Epoch: 1/3...  Loss: 1.5733\n",
      "Epoch: 1/3...  Loss: 1.4765\n",
      "Epoch: 1/3...  Loss: 1.4368\n",
      "Epoch: 1/3...  Loss: 1.3740\n",
      "Epoch: 2/3...  Loss: 0.7325\n",
      "Epoch: 2/3...  Loss: 1.2708\n",
      "Epoch: 2/3...  Loss: 1.1933\n",
      "Epoch: 2/3...  Loss: 1.1364\n",
      "Epoch: 2/3...  Loss: 1.1230\n",
      "Epoch: 2/3...  Loss: 1.0968\n",
      "Epoch: 2/3...  Loss: 1.0329\n",
      "Epoch: 2/3...  Loss: 1.0062\n",
      "Epoch: 2/3...  Loss: 0.9637\n",
      "Epoch: 2/3...  Loss: 0.9239\n",
      "Epoch: 2/3...  Loss: 0.9077\n",
      "Epoch: 2/3...  Loss: 0.8936\n",
      "Epoch: 2/3...  Loss: 0.8541\n",
      "Epoch: 2/3...  Loss: 0.8152\n",
      "Epoch: 2/3...  Loss: 0.8073\n",
      "Epoch: 2/3...  Loss: 0.7745\n",
      "Epoch: 2/3...  Loss: 0.7514\n",
      "Epoch: 2/3...  Loss: 0.7463\n",
      "Epoch: 2/3...  Loss: 0.7410\n",
      "Epoch: 2/3...  Loss: 0.7025\n",
      "Epoch: 2/3...  Loss: 0.7103\n",
      "Epoch: 2/3...  Loss: 0.6703\n",
      "Epoch: 2/3...  Loss: 0.6389\n",
      "Epoch: 3/3...  Loss: 0.0662\n",
      "Epoch: 3/3...  Loss: 0.6281\n",
      "Epoch: 3/3...  Loss: 0.5899\n",
      "Epoch: 3/3...  Loss: 0.6161\n",
      "Epoch: 3/3...  Loss: 0.5925\n",
      "Epoch: 3/3...  Loss: 0.5622\n",
      "Epoch: 3/3...  Loss: 0.5939\n",
      "Epoch: 3/3...  Loss: 0.5572\n",
      "Epoch: 3/3...  Loss: 0.5833\n",
      "Epoch: 3/3...  Loss: 0.5435\n",
      "Epoch: 3/3...  Loss: 0.5394\n",
      "Epoch: 3/3...  Loss: 0.5219\n",
      "Epoch: 3/3...  Loss: 0.5148\n",
      "Epoch: 3/3...  Loss: 0.5159\n",
      "Epoch: 3/3...  Loss: 0.5403\n",
      "Epoch: 3/3...  Loss: 0.5440\n",
      "Epoch: 3/3...  Loss: 0.5483\n",
      "Epoch: 3/3...  Loss: 0.5155\n",
      "Epoch: 3/3...  Loss: 0.4825\n",
      "Epoch: 3/3...  Loss: 0.5069\n",
      "Epoch: 3/3...  Loss: 0.4928\n",
      "Epoch: 3/3...  Loss: 0.4900\n",
      "Epoch: 3/3...  Loss: 0.4901\n",
      "Epoch: 3/3...  Loss: 0.4921\n"
     ]
    }
   ],
   "source": [
    "epochs = 3\n",
    "print_every = 40\n",
    "steps = 0\n",
    "for e in range(epochs):\n",
    "    running_loss = 0\n",
    "    for images, labels in iter(trainloader):\n",
    "        steps += 1\n",
    "        # Flatten MNIST images into a 784 long vector\n",
    "        images.resize_(images.size()[0], 784)\n",
    "        \n",
    "        optimizer.zero_grad()\n",
    "        \n",
    "        # Forward and backward passes\n",
    "        output = model.forward(images)\n",
    "        loss = loss_f(output, labels)\n",
    "        loss.backward()\n",
    "        optimizer.step()\n",
    "        \n",
    "        running_loss += loss.item()\n",
    "        \n",
    "        if steps % print_every == 0:\n",
    "            print(\"Epoch: {}/{}... \".format(e+1, epochs),\n",
    "                  \"Loss: {:.4f}\".format(running_loss/print_every))\n",
    "            \n",
    "            running_loss = 0"
   ]
  },
  {
   "cell_type": "code",
   "execution_count": 45,
   "metadata": {},
   "outputs": [
    {
     "name": "stdout",
     "output_type": "stream",
     "text": [
      "[1.1446953e-06 9.5904750e-01 8.8289175e-03 1.3864480e-02 9.5824646e-05\n",
      " 1.7598238e-03 8.0648484e-04 8.0624101e-04 1.4283266e-02 5.0636084e-04]\n",
      "tensor(1)\n"
     ]
    },
    {
     "data": {
      "image/png": "[encoded data removed]",
      "text/plain": [
       "<matplotlib.figure.Figure at 0x1f8a683d048>"
      ]
     },
     "metadata": {},
     "output_type": "display_data"
    }
   ],
   "source": [
    "images, labels = next(iter(trainloader))\n",
    "\n",
    "img = images[0].view(1, 784)\n",
    "# Turn off gradients to speed up this part\n",
    "with torch.no_grad():\n",
    "    logits = model.forward(img)\n",
    "\n",
    "# Output of the network are logits, need to take softmax for probabilities\n",
    "\n",
    "ps = F.softmax(logits, dim=1)\n",
    "\n",
    "print(ps.data.numpy().squeeze())\n",
    "print(labels[0])\n",
    "\n",
    "plt.subplot(1,2,1)\n",
    "plt.imshow(img.view(1,28,28).numpy().squeeze(),cmap='Greys_r')\n",
    "\n",
    "plt.subplot(1,2,2)\n",
    "plt.barh(range(10),ps.data.numpy().squeeze())\n",
    "plt.xlim(0,1)\n",
    "plt.ylim(-0.5,9.5) \n",
    "plt.yticks(range(10))\n",
    "plt.title('Prediction')\n",
    "for x,y in enumerate(ps.data.numpy().squeeze()):\n",
    "    plt.text(y + 0.01, x-0.1, '{:.3f}'.format(y))"
   ]
  },
  {
   "cell_type": "code",
   "execution_count": null,
   "metadata": {},
   "outputs": [],
   "source": []
  },
  {
   "cell_type": "code",
   "execution_count": null,
   "metadata": {},
   "outputs": [],
   "source": []
  }
 ],
 "metadata": {
  "kernelspec": {
   "display_name": "Python 3",
   "language": "python",
   "name": "python3"
  },
  "language_info": {
   "codemirror_mode": {
    "name": "ipython",
    "version": 3
   },
   "file_extension": ".py",
   "mimetype": "text/x-python",
   "name": "python",
   "nbconvert_exporter": "python",
   "pygments_lexer": "ipython3",
   "version": "3.6.6"
  }
 },
 "nbformat": 4,
 "nbformat_minor": 2
}
